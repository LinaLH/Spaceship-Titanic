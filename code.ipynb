{
  "cells": [
    {
      "cell_type": "markdown",
      "metadata": {
        "id": "niE-qfMYhmu1"
      },
      "source": []
    },
    {
      "cell_type": "markdown",
      "metadata": {
        "id": "u6iMpJ9qsXwn"
      },
      "source": [
        "Now that the features have been selected, we are going to train our classifiers on the selected features."
      ]
    },
    {
      "cell_type": "markdown",
      "metadata": {
        "id": "o_wiXkjRsYgI"
      },
      "source": [
        "# Training the models"
      ]
    },
    {
      "cell_type": "markdown",
      "metadata": {
        "id": "r8ZPHOxTseq-"
      },
      "source": [
        "### Data spliting"
      ]
    },
    {
      "cell_type": "code",
      "execution_count": null,
      "metadata": {
        "id": "jx387yGksoQC"
      },
      "outputs": [],
      "source": [
        "X_train, X_test, Y_train, Y_test = train_test_split(X_new, data_train['Transported'], test_size=0.2, random_state=42)\n",
        "\n",
        "print(f'X_train shape: {X_train.shape}')\n",
        "print(f'Y_train shape: {Y_train.shape}')\n",
        "print(f'X_test shape: {X_test.shape}')\n",
        "print(f'Y_test shape: {Y_test.shape}')"
      ]
    },
    {
      "cell_type": "markdown",
      "metadata": {
        "id": "AHg4MIuKtDpi"
      },
      "source": [
        "### Logistic regression"
      ]
    },
    {
      "cell_type": "markdown",
      "metadata": {
        "id": "rLQinVHPtHA_"
      },
      "source": [
        "**Training the model**"
      ]
    },
    {
      "cell_type": "markdown",
      "metadata": {
        "id": "KRYjhWmEtKoK"
      },
      "source": [
        "We will start by training a logistic regression model."
      ]
    },
    {
      "cell_type": "code",
      "execution_count": null,
      "metadata": {
        "id": "_99VeR4atNHS"
      },
      "outputs": [],
      "source": [
        "reg = LogisticRegression()\n",
        "reg.fit(X_train, Y_train)\n",
        "\n",
        "print(f'Accuracy: {reg.score(X_test, Y_test)}')\n",
        "\n",
        "scores = cross_val_score(reg, X_new, data_train['Transported'], cv=5)\n",
        "print(f'Cross validation scores: {scores}')\n",
        "print(f'Cross validation mean score: {scores.mean()}')\n",
        "print(f'Cross validation standard deviation: {scores.std()}')"
      ]
    },
    {
      "cell_type": "markdown",
      "metadata": {
        "id": "gFtvbMOhuGrG"
      },
      "source": [
        "These results indicate that the logistic regression model achieved an accuracy of approximately 75.04% on the test set. Additionally, during the cross-validation process, the model obtained five different accuracy scores: 75.22%, 71.25%, 74.93%, 75.66%, and 72.27% for each fold, respectively.\n",
        "\n",
        "The mean cross-validation score, which represents the average accuracy across all folds, is approximately 73.86%. The standard deviation of the cross-validation scores is approximately 1.77%, indicating the variability or consistency of the model's performance across different folds.\n",
        "\n",
        "Overall, the model demonstrates a reasonably stable performance across different subsets of the data, with an average accuracy around 73.86%, suggesting that it generalizes well to unseen data.\n",
        "\n",
        "We already have a good accuracy, but we will try to improve it by tuning the hyperparameters."
      ]
    },
    {
      "cell_type": "markdown",
      "metadata": {
        "id": "jZiS-mvfuQnQ"
      },
      "source": [
        "**Tuning the hyperparameters**"
      ]
    },
    {
      "cell_type": "markdown",
      "metadata": {
        "id": "9A50L2JZuVwM"
      },
      "source": [
        "As we made variable selection, wee will try to make a model that uses all the features."
      ]
    },
    {
      "cell_type": "code",
      "execution_count": null,
      "metadata": {
        "id": "5Klp1O68ucua"
      },
      "outputs": [],
      "source": [
        "# Impute missing values using mean strategy\n",
        "imputer = SimpleImputer(strategy='mean')\n",
        "X_train_imputed = imputer.fit_transform(X_train)\n",
        "X_test_imputed = imputer.transform(X_test)\n",
        "\n",
        "# Train logistic regression model\n",
        "reg = LogisticRegression()\n",
        "reg.fit(X_train_imputed, Y_train)\n",
        "\n",
        "# Evaluate model\n",
        "##accuracy = reg.score(X_test_imputed, Y_test)\n",
        "#print(f'Accuracy: {accuracy}')\n",
        "\n",
        "#X_train, X_test, Y_train, Y_test = train_test_split(data_train.drop('Transported', axis = 1), data_train['Transported'], test_size=0.2, random_state=42)\n",
        "\n",
        "print(f'X_train shape: {X_train.shape}')\n",
        "print(f'Y_train shape: {Y_train.shape}')\n",
        "print(f'X_test shape: {X_test.shape}')\n",
        "print(f'Y_test shape: {Y_test.shape}')\n",
        "\n",
        "\n",
        "reg = LogisticRegression()\n",
        "reg.fit(X_train_imputed, Y_train)\n",
        "\n",
        "print(f'Accuracy: {reg.score(X_test_imputed, Y_test)}')\n",
        "\n",
        "scores = cross_val_score(reg, data_train.drop('Transported', axis = 1), data_train['Transported'], cv=5)\n",
        "print(f'Cross validation scores: {scores}')\n",
        "print(f'Cross validation mean score: {scores.mean()}')\n",
        "print(f'Cross validation standard deviation: {scores.std()}')"
      ]
    },
    {
      "cell_type": "markdown",
      "metadata": {
        "id": "QnL1TKpCNB11"
      },
      "source": []
    }
  ],
  "metadata": {
    "colab": {
      "provenance": []
    },
    "kernelspec": {
      "display_name": "Python 3",
      "name": "python3"
    },
    "language_info": {
      "codemirror_mode": {
        "name": "ipython",
        "version": 3
      },
      "file_extension": ".py",
      "mimetype": "text/x-python",
      "name": "python",
      "nbconvert_exporter": "python",
      "pygments_lexer": "ipython3",
      "version": "3.9.13"
    }
  },
  "nbformat": 4,
  "nbformat_minor": 0
}
