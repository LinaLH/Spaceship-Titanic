{
 "cells": [
  {
   "cell_type": "code",
   "execution_count": 16,
   "metadata": {},
   "outputs": [],
   "source": [
    "%run import.ipynb"
   ]
  },
  {
   "cell_type": "markdown",
   "metadata": {},
   "source": [
    "# Exploratory data analysis"
   ]
  },
  {
   "cell_type": "code",
   "execution_count": 17,
   "metadata": {},
   "outputs": [
    {
     "data": {
      "text/html": [
       "<div>\n",
       "<style scoped>\n",
       "    .dataframe tbody tr th:only-of-type {\n",
       "        vertical-align: middle;\n",
       "    }\n",
       "\n",
       "    .dataframe tbody tr th {\n",
       "        vertical-align: top;\n",
       "    }\n",
       "\n",
       "    .dataframe thead th {\n",
       "        text-align: right;\n",
       "    }\n",
       "</style>\n",
       "<table border=\"1\" class=\"dataframe\">\n",
       "  <thead>\n",
       "    <tr style=\"text-align: right;\">\n",
       "      <th></th>\n",
       "      <th>PassengerId</th>\n",
       "      <th>HomePlanet</th>\n",
       "      <th>CryoSleep</th>\n",
       "      <th>Cabin</th>\n",
       "      <th>Destination</th>\n",
       "      <th>Age</th>\n",
       "      <th>VIP</th>\n",
       "      <th>RoomService</th>\n",
       "      <th>FoodCourt</th>\n",
       "      <th>ShoppingMall</th>\n",
       "      <th>Spa</th>\n",
       "      <th>VRDeck</th>\n",
       "      <th>Name</th>\n",
       "      <th>Transported</th>\n",
       "    </tr>\n",
       "  </thead>\n",
       "  <tbody>\n",
       "    <tr>\n",
       "      <th>0</th>\n",
       "      <td>0001_01</td>\n",
       "      <td>Europa</td>\n",
       "      <td>False</td>\n",
       "      <td>B/0/P</td>\n",
       "      <td>TRAPPIST-1e</td>\n",
       "      <td>39.0</td>\n",
       "      <td>False</td>\n",
       "      <td>0.0</td>\n",
       "      <td>0.0</td>\n",
       "      <td>0.0</td>\n",
       "      <td>0.0</td>\n",
       "      <td>0.0</td>\n",
       "      <td>Maham Ofracculy</td>\n",
       "      <td>False</td>\n",
       "    </tr>\n",
       "    <tr>\n",
       "      <th>1</th>\n",
       "      <td>0002_01</td>\n",
       "      <td>Earth</td>\n",
       "      <td>False</td>\n",
       "      <td>F/0/S</td>\n",
       "      <td>TRAPPIST-1e</td>\n",
       "      <td>24.0</td>\n",
       "      <td>False</td>\n",
       "      <td>109.0</td>\n",
       "      <td>9.0</td>\n",
       "      <td>25.0</td>\n",
       "      <td>549.0</td>\n",
       "      <td>44.0</td>\n",
       "      <td>Juanna Vines</td>\n",
       "      <td>True</td>\n",
       "    </tr>\n",
       "    <tr>\n",
       "      <th>2</th>\n",
       "      <td>0003_01</td>\n",
       "      <td>Europa</td>\n",
       "      <td>False</td>\n",
       "      <td>A/0/S</td>\n",
       "      <td>TRAPPIST-1e</td>\n",
       "      <td>58.0</td>\n",
       "      <td>True</td>\n",
       "      <td>43.0</td>\n",
       "      <td>3576.0</td>\n",
       "      <td>0.0</td>\n",
       "      <td>6715.0</td>\n",
       "      <td>49.0</td>\n",
       "      <td>Altark Susent</td>\n",
       "      <td>False</td>\n",
       "    </tr>\n",
       "    <tr>\n",
       "      <th>3</th>\n",
       "      <td>0003_02</td>\n",
       "      <td>Europa</td>\n",
       "      <td>False</td>\n",
       "      <td>A/0/S</td>\n",
       "      <td>TRAPPIST-1e</td>\n",
       "      <td>33.0</td>\n",
       "      <td>False</td>\n",
       "      <td>0.0</td>\n",
       "      <td>1283.0</td>\n",
       "      <td>371.0</td>\n",
       "      <td>3329.0</td>\n",
       "      <td>193.0</td>\n",
       "      <td>Solam Susent</td>\n",
       "      <td>False</td>\n",
       "    </tr>\n",
       "    <tr>\n",
       "      <th>4</th>\n",
       "      <td>0004_01</td>\n",
       "      <td>Earth</td>\n",
       "      <td>False</td>\n",
       "      <td>F/1/S</td>\n",
       "      <td>TRAPPIST-1e</td>\n",
       "      <td>16.0</td>\n",
       "      <td>False</td>\n",
       "      <td>303.0</td>\n",
       "      <td>70.0</td>\n",
       "      <td>151.0</td>\n",
       "      <td>565.0</td>\n",
       "      <td>2.0</td>\n",
       "      <td>Willy Santantines</td>\n",
       "      <td>True</td>\n",
       "    </tr>\n",
       "  </tbody>\n",
       "</table>\n",
       "</div>"
      ],
      "text/plain": [
       "  PassengerId HomePlanet CryoSleep  Cabin  Destination   Age    VIP  \\\n",
       "0     0001_01     Europa     False  B/0/P  TRAPPIST-1e  39.0  False   \n",
       "1     0002_01      Earth     False  F/0/S  TRAPPIST-1e  24.0  False   \n",
       "2     0003_01     Europa     False  A/0/S  TRAPPIST-1e  58.0   True   \n",
       "3     0003_02     Europa     False  A/0/S  TRAPPIST-1e  33.0  False   \n",
       "4     0004_01      Earth     False  F/1/S  TRAPPIST-1e  16.0  False   \n",
       "\n",
       "   RoomService  FoodCourt  ShoppingMall     Spa  VRDeck               Name  \\\n",
       "0          0.0        0.0           0.0     0.0     0.0    Maham Ofracculy   \n",
       "1        109.0        9.0          25.0   549.0    44.0       Juanna Vines   \n",
       "2         43.0     3576.0           0.0  6715.0    49.0      Altark Susent   \n",
       "3          0.0     1283.0         371.0  3329.0   193.0       Solam Susent   \n",
       "4        303.0       70.0         151.0   565.0     2.0  Willy Santantines   \n",
       "\n",
       "   Transported  \n",
       "0        False  \n",
       "1         True  \n",
       "2        False  \n",
       "3        False  \n",
       "4         True  "
      ]
     },
     "execution_count": 17,
     "metadata": {},
     "output_type": "execute_result"
    }
   ],
   "source": [
    "data_train.head()\n",
    "#data_test.head()\n",
    "#data_sample.head()"
   ]
  },
  {
   "cell_type": "markdown",
   "metadata": {},
   "source": [
    "The **data_train** dataset contains informations about passengers aboard the Spaceship Titanic. Key features include **PassengerId** (unique identifier), **HomePlanet** (planet of origin), **CryoSleep** (boolean indicating if the passenger was in cryogenic sleep), **Cabin** (cabin details including deck, number, and side), **Destination** (final destination), **Age**, **VIP status** , and various amenities such as **RoomService**, **FoodCourt**, **ShoppingMall**, **Spa**, and **VRDeck**. The **Name** column contains passenger names. The target variable **Transported** indicates whether a passenger was transported by the space-time anomaly. Initial exploration suggests a diverse range of passengers with varying amenities usage and VIP status."
   ]
  },
  {
   "cell_type": "code",
   "execution_count": 18,
   "metadata": {},
   "outputs": [
    {
     "data": {
      "text/html": [
       "<div>\n",
       "<style scoped>\n",
       "    .dataframe tbody tr th:only-of-type {\n",
       "        vertical-align: middle;\n",
       "    }\n",
       "\n",
       "    .dataframe tbody tr th {\n",
       "        vertical-align: top;\n",
       "    }\n",
       "\n",
       "    .dataframe thead th {\n",
       "        text-align: right;\n",
       "    }\n",
       "</style>\n",
       "<table border=\"1\" class=\"dataframe\">\n",
       "  <thead>\n",
       "    <tr style=\"text-align: right;\">\n",
       "      <th></th>\n",
       "      <th>Age</th>\n",
       "      <th>RoomService</th>\n",
       "      <th>FoodCourt</th>\n",
       "      <th>ShoppingMall</th>\n",
       "      <th>Spa</th>\n",
       "      <th>VRDeck</th>\n",
       "    </tr>\n",
       "  </thead>\n",
       "  <tbody>\n",
       "    <tr>\n",
       "      <th>count</th>\n",
       "      <td>8514.000000</td>\n",
       "      <td>8512.000000</td>\n",
       "      <td>8510.000000</td>\n",
       "      <td>8485.000000</td>\n",
       "      <td>8510.000000</td>\n",
       "      <td>8505.000000</td>\n",
       "    </tr>\n",
       "    <tr>\n",
       "      <th>mean</th>\n",
       "      <td>28.827930</td>\n",
       "      <td>224.687617</td>\n",
       "      <td>458.077203</td>\n",
       "      <td>173.729169</td>\n",
       "      <td>311.138778</td>\n",
       "      <td>304.854791</td>\n",
       "    </tr>\n",
       "    <tr>\n",
       "      <th>std</th>\n",
       "      <td>14.489021</td>\n",
       "      <td>666.717663</td>\n",
       "      <td>1611.489240</td>\n",
       "      <td>604.696458</td>\n",
       "      <td>1136.705535</td>\n",
       "      <td>1145.717189</td>\n",
       "    </tr>\n",
       "    <tr>\n",
       "      <th>min</th>\n",
       "      <td>0.000000</td>\n",
       "      <td>0.000000</td>\n",
       "      <td>0.000000</td>\n",
       "      <td>0.000000</td>\n",
       "      <td>0.000000</td>\n",
       "      <td>0.000000</td>\n",
       "    </tr>\n",
       "    <tr>\n",
       "      <th>25%</th>\n",
       "      <td>19.000000</td>\n",
       "      <td>0.000000</td>\n",
       "      <td>0.000000</td>\n",
       "      <td>0.000000</td>\n",
       "      <td>0.000000</td>\n",
       "      <td>0.000000</td>\n",
       "    </tr>\n",
       "    <tr>\n",
       "      <th>50%</th>\n",
       "      <td>27.000000</td>\n",
       "      <td>0.000000</td>\n",
       "      <td>0.000000</td>\n",
       "      <td>0.000000</td>\n",
       "      <td>0.000000</td>\n",
       "      <td>0.000000</td>\n",
       "    </tr>\n",
       "    <tr>\n",
       "      <th>75%</th>\n",
       "      <td>38.000000</td>\n",
       "      <td>47.000000</td>\n",
       "      <td>76.000000</td>\n",
       "      <td>27.000000</td>\n",
       "      <td>59.000000</td>\n",
       "      <td>46.000000</td>\n",
       "    </tr>\n",
       "    <tr>\n",
       "      <th>max</th>\n",
       "      <td>79.000000</td>\n",
       "      <td>14327.000000</td>\n",
       "      <td>29813.000000</td>\n",
       "      <td>23492.000000</td>\n",
       "      <td>22408.000000</td>\n",
       "      <td>24133.000000</td>\n",
       "    </tr>\n",
       "  </tbody>\n",
       "</table>\n",
       "</div>"
      ],
      "text/plain": [
       "               Age   RoomService     FoodCourt  ShoppingMall           Spa  \\\n",
       "count  8514.000000   8512.000000   8510.000000   8485.000000   8510.000000   \n",
       "mean     28.827930    224.687617    458.077203    173.729169    311.138778   \n",
       "std      14.489021    666.717663   1611.489240    604.696458   1136.705535   \n",
       "min       0.000000      0.000000      0.000000      0.000000      0.000000   \n",
       "25%      19.000000      0.000000      0.000000      0.000000      0.000000   \n",
       "50%      27.000000      0.000000      0.000000      0.000000      0.000000   \n",
       "75%      38.000000     47.000000     76.000000     27.000000     59.000000   \n",
       "max      79.000000  14327.000000  29813.000000  23492.000000  22408.000000   \n",
       "\n",
       "             VRDeck  \n",
       "count   8505.000000  \n",
       "mean     304.854791  \n",
       "std     1145.717189  \n",
       "min        0.000000  \n",
       "25%        0.000000  \n",
       "50%        0.000000  \n",
       "75%       46.000000  \n",
       "max    24133.000000  "
      ]
     },
     "execution_count": 18,
     "metadata": {},
     "output_type": "execute_result"
    }
   ],
   "source": [
    "data_train.describe()"
   ]
  },
  {
   "cell_type": "markdown",
   "metadata": {},
   "source": [
    "The summary statistics of numerical features indicate that the dataset contains information on passengers with an average age of approximately 28.83 years old.\n",
    "\n",
    "The amenities such as **RoomService**, **FoodCourt**, **ShoppingMall**, **Spa**, and **VRDeck** show varying usage levels, with mean values ranging from around 224 to 458.\n",
    "\n",
    "The standard deviations are relatively high, suggesting a wide dispersion in the usage of these amenities.\n",
    "\n",
    "Additionally, the minimum values indicate that some passengers did not utilize these amenities at all, while the maximum values reflect the highest recorded usage levels.\n",
    "\n",
    "The quartile values provide insight into the distribution of these features across the dataset."
   ]
  },
  {
   "cell_type": "code",
   "execution_count": 19,
   "metadata": {},
   "outputs": [
    {
     "data": {
      "text/html": [
       "<div>\n",
       "<style scoped>\n",
       "    .dataframe tbody tr th:only-of-type {\n",
       "        vertical-align: middle;\n",
       "    }\n",
       "\n",
       "    .dataframe tbody tr th {\n",
       "        vertical-align: top;\n",
       "    }\n",
       "\n",
       "    .dataframe thead th {\n",
       "        text-align: right;\n",
       "    }\n",
       "</style>\n",
       "<table border=\"1\" class=\"dataframe\">\n",
       "  <thead>\n",
       "    <tr style=\"text-align: right;\">\n",
       "      <th></th>\n",
       "      <th>PassengerId</th>\n",
       "      <th>HomePlanet</th>\n",
       "      <th>CryoSleep</th>\n",
       "      <th>Cabin</th>\n",
       "      <th>Destination</th>\n",
       "      <th>VIP</th>\n",
       "      <th>Name</th>\n",
       "    </tr>\n",
       "  </thead>\n",
       "  <tbody>\n",
       "    <tr>\n",
       "      <th>count</th>\n",
       "      <td>8693</td>\n",
       "      <td>8492</td>\n",
       "      <td>8476</td>\n",
       "      <td>8494</td>\n",
       "      <td>8511</td>\n",
       "      <td>8490</td>\n",
       "      <td>8493</td>\n",
       "    </tr>\n",
       "    <tr>\n",
       "      <th>unique</th>\n",
       "      <td>8693</td>\n",
       "      <td>3</td>\n",
       "      <td>2</td>\n",
       "      <td>6560</td>\n",
       "      <td>3</td>\n",
       "      <td>2</td>\n",
       "      <td>8473</td>\n",
       "    </tr>\n",
       "    <tr>\n",
       "      <th>top</th>\n",
       "      <td>0001_01</td>\n",
       "      <td>Earth</td>\n",
       "      <td>False</td>\n",
       "      <td>G/734/S</td>\n",
       "      <td>TRAPPIST-1e</td>\n",
       "      <td>False</td>\n",
       "      <td>Gollux Reedall</td>\n",
       "    </tr>\n",
       "    <tr>\n",
       "      <th>freq</th>\n",
       "      <td>1</td>\n",
       "      <td>4602</td>\n",
       "      <td>5439</td>\n",
       "      <td>8</td>\n",
       "      <td>5915</td>\n",
       "      <td>8291</td>\n",
       "      <td>2</td>\n",
       "    </tr>\n",
       "  </tbody>\n",
       "</table>\n",
       "</div>"
      ],
      "text/plain": [
       "       PassengerId HomePlanet CryoSleep    Cabin  Destination    VIP  \\\n",
       "count         8693       8492      8476     8494         8511   8490   \n",
       "unique        8693          3         2     6560            3      2   \n",
       "top        0001_01      Earth     False  G/734/S  TRAPPIST-1e  False   \n",
       "freq             1       4602      5439        8         5915   8291   \n",
       "\n",
       "                  Name  \n",
       "count             8493  \n",
       "unique            8473  \n",
       "top     Gollux Reedall  \n",
       "freq                 2  "
      ]
     },
     "execution_count": 19,
     "metadata": {},
     "output_type": "execute_result"
    }
   ],
   "source": [
    "data_train.describe(include=['O'])\n",
    "#id cabin name"
   ]
  },
  {
   "cell_type": "markdown",
   "metadata": {},
   "source": [
    "The summary statistics of categorical features indicate that the dataset includes information on 8693 unique passengers. The HomePlanet feature has three unique values, with 'Earth' being the most common, occurring 4602 times. The CryoSleep feature is binary, with the majority of passengers (5439) not in cryogenic sleep. The Cabin feature has a high cardinality, with 6560 unique values. The most frequent cabin designation is 'G/734/S', occurring 8 times. The Destination feature has three unique values, with 'TRAPPIST-1e' being the most common destination, occurring 5915 times. The VIP feature is binary, with the majority of passengers (8291) not being VIPs. The Name feature has 8473 unique values, with 'Gollux Reedall' being the most frequent name, occurring twice."
   ]
  },
  {
   "cell_type": "code",
   "execution_count": 20,
   "metadata": {},
   "outputs": [
    {
     "data": {
      "text/plain": [
       "Earth     4602\n",
       "Europa    2131\n",
       "Mars      1759\n",
       "Name: HomePlanet, dtype: int64"
      ]
     },
     "execution_count": 20,
     "metadata": {},
     "output_type": "execute_result"
    }
   ],
   "source": [
    "data_train.HomePlanet.value_counts()"
   ]
  },
  {
   "cell_type": "markdown",
   "metadata": {},
   "source": [
    "This provides insight into the distribution of data regarding individuals' home planets in the DataFrame."
   ]
  },
  {
   "cell_type": "code",
   "execution_count": 21,
   "metadata": {},
   "outputs": [
    {
     "data": {
      "text/html": [
       "<div>\n",
       "<style scoped>\n",
       "    .dataframe tbody tr th:only-of-type {\n",
       "        vertical-align: middle;\n",
       "    }\n",
       "\n",
       "    .dataframe tbody tr th {\n",
       "        vertical-align: top;\n",
       "    }\n",
       "\n",
       "    .dataframe thead th {\n",
       "        text-align: right;\n",
       "    }\n",
       "</style>\n",
       "<table border=\"1\" class=\"dataframe\">\n",
       "  <thead>\n",
       "    <tr style=\"text-align: right;\">\n",
       "      <th></th>\n",
       "      <th>HomePlanet</th>\n",
       "      <th>Transported</th>\n",
       "    </tr>\n",
       "  </thead>\n",
       "  <tbody>\n",
       "    <tr>\n",
       "      <th>1</th>\n",
       "      <td>Europa</td>\n",
       "      <td>0.658846</td>\n",
       "    </tr>\n",
       "    <tr>\n",
       "      <th>2</th>\n",
       "      <td>Mars</td>\n",
       "      <td>0.523024</td>\n",
       "    </tr>\n",
       "    <tr>\n",
       "      <th>0</th>\n",
       "      <td>Earth</td>\n",
       "      <td>0.423946</td>\n",
       "    </tr>\n",
       "  </tbody>\n",
       "</table>\n",
       "</div>"
      ],
      "text/plain": [
       "  HomePlanet  Transported\n",
       "1     Europa     0.658846\n",
       "2       Mars     0.523024\n",
       "0      Earth     0.423946"
      ]
     },
     "execution_count": 21,
     "metadata": {},
     "output_type": "execute_result"
    }
   ],
   "source": [
    "data_train['Transported'] = data_train['Transported'].map({True: 1, False: 0}).astype(int)\n",
    "data_train[['HomePlanet', 'Transported']].groupby(['HomePlanet'], as_index=False).mean().sort_values(by='Transported', ascending=False)\n",
    "#moyenne de non-transported par planetes de départ"
   ]
  },
  {
   "cell_type": "markdown",
   "metadata": {},
   "source": [
    "The analysis shows that passengers from Europa have the highest proportion of being transported (approximately 65.88%), followed by passengers from Mars (approximately 52.30%), and Earth (approximately 42.39%). This suggests a potential correlation between the planet of origin and the likelihood of being transported by the space-time anomaly."
   ]
  },
  {
   "cell_type": "code",
   "execution_count": 23,
   "metadata": {},
   "outputs": [
    {
     "name": "stdout",
     "output_type": "stream",
     "text": [
      "PassengerId       0\n",
      "HomePlanet      201\n",
      "CryoSleep       217\n",
      "Cabin           199\n",
      "Destination     182\n",
      "Age             179\n",
      "VIP             203\n",
      "RoomService     181\n",
      "FoodCourt       183\n",
      "ShoppingMall    208\n",
      "Spa             183\n",
      "VRDeck          188\n",
      "Name            200\n",
      "Transported       0\n",
      "dtype: int64\n"
     ]
    }
   ],
   "source": [
    "print(data_train.isnull().sum())\n",
    "#print()"
   ]
  },
  {
   "cell_type": "code",
   "execution_count": 24,
   "metadata": {},
   "outputs": [
    {
     "name": "stdout",
     "output_type": "stream",
     "text": [
      "0       0\n",
      "1       0\n",
      "2       0\n",
      "3       0\n",
      "4       0\n",
      "       ..\n",
      "8688    0\n",
      "8689    0\n",
      "8690    0\n",
      "8691    0\n",
      "8692    0\n",
      "Length: 8693, dtype: int64\n"
     ]
    }
   ],
   "source": [
    "print(data_train.isnull().sum(axis=1))"
   ]
  },
  {
   "cell_type": "code",
   "execution_count": 25,
   "metadata": {},
   "outputs": [
    {
     "data": {
      "text/html": [
       "<div>\n",
       "<style scoped>\n",
       "    .dataframe tbody tr th:only-of-type {\n",
       "        vertical-align: middle;\n",
       "    }\n",
       "\n",
       "    .dataframe tbody tr th {\n",
       "        vertical-align: top;\n",
       "    }\n",
       "\n",
       "    .dataframe thead th {\n",
       "        text-align: right;\n",
       "    }\n",
       "</style>\n",
       "<table border=\"1\" class=\"dataframe\">\n",
       "  <thead>\n",
       "    <tr style=\"text-align: right;\">\n",
       "      <th></th>\n",
       "      <th>Missing Values</th>\n",
       "      <th>Percentage (%)</th>\n",
       "    </tr>\n",
       "  </thead>\n",
       "  <tbody>\n",
       "    <tr>\n",
       "      <th>CryoSleep</th>\n",
       "      <td>217</td>\n",
       "      <td>2.496261</td>\n",
       "    </tr>\n",
       "    <tr>\n",
       "      <th>ShoppingMall</th>\n",
       "      <td>208</td>\n",
       "      <td>2.392730</td>\n",
       "    </tr>\n",
       "    <tr>\n",
       "      <th>VIP</th>\n",
       "      <td>203</td>\n",
       "      <td>2.335212</td>\n",
       "    </tr>\n",
       "    <tr>\n",
       "      <th>HomePlanet</th>\n",
       "      <td>201</td>\n",
       "      <td>2.312205</td>\n",
       "    </tr>\n",
       "    <tr>\n",
       "      <th>Name</th>\n",
       "      <td>200</td>\n",
       "      <td>2.300702</td>\n",
       "    </tr>\n",
       "    <tr>\n",
       "      <th>Cabin</th>\n",
       "      <td>199</td>\n",
       "      <td>2.289198</td>\n",
       "    </tr>\n",
       "    <tr>\n",
       "      <th>VRDeck</th>\n",
       "      <td>188</td>\n",
       "      <td>2.162660</td>\n",
       "    </tr>\n",
       "    <tr>\n",
       "      <th>FoodCourt</th>\n",
       "      <td>183</td>\n",
       "      <td>2.105142</td>\n",
       "    </tr>\n",
       "    <tr>\n",
       "      <th>Spa</th>\n",
       "      <td>183</td>\n",
       "      <td>2.105142</td>\n",
       "    </tr>\n",
       "    <tr>\n",
       "      <th>Destination</th>\n",
       "      <td>182</td>\n",
       "      <td>2.093639</td>\n",
       "    </tr>\n",
       "    <tr>\n",
       "      <th>RoomService</th>\n",
       "      <td>181</td>\n",
       "      <td>2.082135</td>\n",
       "    </tr>\n",
       "    <tr>\n",
       "      <th>Age</th>\n",
       "      <td>179</td>\n",
       "      <td>2.059128</td>\n",
       "    </tr>\n",
       "  </tbody>\n",
       "</table>\n",
       "</div>"
      ],
      "text/plain": [
       "              Missing Values  Percentage (%)\n",
       "CryoSleep                217        2.496261\n",
       "ShoppingMall             208        2.392730\n",
       "VIP                      203        2.335212\n",
       "HomePlanet               201        2.312205\n",
       "Name                     200        2.300702\n",
       "Cabin                    199        2.289198\n",
       "VRDeck                   188        2.162660\n",
       "FoodCourt                183        2.105142\n",
       "Spa                      183        2.105142\n",
       "Destination              182        2.093639\n",
       "RoomService              181        2.082135\n",
       "Age                      179        2.059128"
      ]
     },
     "execution_count": 25,
     "metadata": {},
     "output_type": "execute_result"
    }
   ],
   "source": [
    "# Checking the number of missing values in each column\n",
    "missing_values = data_train.isnull().sum()\n",
    "\n",
    "# Calculating the percentage of missing values for each column\n",
    "missing_percentage = (data_train.isnull().sum() / len(data_train)) * 100\n",
    "\n",
    "missing_data = pd.DataFrame({'Missing Values': missing_values, 'Percentage (%)': missing_percentage})\n",
    "\n",
    "# Filtering out columns with no missing values\n",
    "missing_data = missing_data[missing_data['Missing Values'] > 0].sort_values(by='Percentage (%)', ascending=False)\n",
    "\n",
    "missing_data"
   ]
  },
  {
   "cell_type": "markdown",
   "metadata": {},
   "source": [
    "The code calculates the number and percentage of missing values for each column in the data_train dataset. The table is sorted in descending order based on the percentage of missing values.\n",
    "\n",
    "The analysis reveals that the feature 'CryoSleep' has the highest percentage of missing values (approximately 2.50%), followed by 'ShoppingMall' (approximately 2.39%) and 'VIP' (approximately 2.34%). Other features such as 'HomePlanet', 'Name', 'Cabin', and 'VRDeck' also exhibit a non-negligible percentage of missing values.\n",
    "\n",
    "These results highlight the need for appropriate handling of missing data during data preprocessing to ensure the reliability of subsequent analyses."
   ]
  },
  {
   "cell_type": "markdown",
   "metadata": {},
   "source": [
    "Thus, we can replace the missing values by the mean of the colums if the data is numerical, and by the most frequence value if it is not."
   ]
  },
  {
   "cell_type": "code",
   "execution_count": 1,
   "metadata": {},
   "outputs": [
    {
     "ename": "NameError",
     "evalue": "name 'data_train' is not defined",
     "output_type": "error",
     "traceback": [
      "\u001b[0;31m---------------------------------------------------------------------------\u001b[0m",
      "\u001b[0;31mNameError\u001b[0m                                 Traceback (most recent call last)",
      "\u001b[0;32m/var/folders/7j/14jfrc2103x6tv09d83n83k80000gn/T/ipykernel_2680/1952200228.py\u001b[0m in \u001b[0;36m<module>\u001b[0;34m\u001b[0m\n\u001b[0;32m----> 1\u001b[0;31m \u001b[0mdata_num\u001b[0m \u001b[0;34m=\u001b[0m \u001b[0mdata_train\u001b[0m\u001b[0;34m[\u001b[0m\u001b[0;34m[\u001b[0m\u001b[0;34m\"PassengerId\"\u001b[0m\u001b[0;34m,\u001b[0m \u001b[0;34m\"Age\"\u001b[0m\u001b[0;34m,\u001b[0m \u001b[0;34m\"RoomService\"\u001b[0m\u001b[0;34m,\u001b[0m \u001b[0;34m\"FoodCourt\"\u001b[0m\u001b[0;34m,\u001b[0m \u001b[0;34m\"ShoppingMall\"\u001b[0m\u001b[0;34m,\u001b[0m \u001b[0;34m\"Spa\"\u001b[0m\u001b[0;34m,\u001b[0m \u001b[0;34m\"VRDeck\"\u001b[0m\u001b[0;34m]\u001b[0m\u001b[0;34m]\u001b[0m\u001b[0;34m\u001b[0m\u001b[0;34m\u001b[0m\u001b[0m\n\u001b[0m\u001b[1;32m      2\u001b[0m \u001b[0mdata_str\u001b[0m \u001b[0;34m=\u001b[0m \u001b[0mdata_train\u001b[0m\u001b[0;34m[\u001b[0m\u001b[0;34m[\u001b[0m\u001b[0;34m\"HomePlanet\"\u001b[0m\u001b[0;34m,\u001b[0m \u001b[0;34m\"Cabin\"\u001b[0m\u001b[0;34m,\u001b[0m \u001b[0;34m\"Destination\"\u001b[0m\u001b[0;34m,\u001b[0m \u001b[0;34m\"Name\"\u001b[0m\u001b[0;34m]\u001b[0m\u001b[0;34m]\u001b[0m\u001b[0;34m\u001b[0m\u001b[0;34m\u001b[0m\u001b[0m\n\u001b[1;32m      3\u001b[0m \u001b[0mdata_bool\u001b[0m \u001b[0;34m=\u001b[0m \u001b[0mdata_train\u001b[0m\u001b[0;34m[\u001b[0m\u001b[0;34m[\u001b[0m\u001b[0;34m\"CryoSleep\"\u001b[0m\u001b[0;34m,\u001b[0m \u001b[0;34m\"VIP\"\u001b[0m\u001b[0;34m,\u001b[0m \u001b[0;34m\"Transported\"\u001b[0m\u001b[0;34m]\u001b[0m\u001b[0;34m]\u001b[0m \u001b[0;31m#pas de missing values dans transported\u001b[0m\u001b[0;34m\u001b[0m\u001b[0;34m\u001b[0m\u001b[0m\n\u001b[1;32m      4\u001b[0m \u001b[0;34m\u001b[0m\u001b[0m\n\u001b[1;32m      5\u001b[0m \u001b[0;31m#remplacement valeurs manquante de data_num\u001b[0m\u001b[0;34m\u001b[0m\u001b[0;34m\u001b[0m\u001b[0m\n",
      "\u001b[0;31mNameError\u001b[0m: name 'data_train' is not defined"
     ]
    }
   ],
   "source": [
    "data_num = data_train[[\"PassengerId\", \"Age\", \"RoomService\", \"FoodCourt\", \"ShoppingMall\", \"Spa\", \"VRDeck\"]]\n",
    "data_str = data_train[[\"HomePlanet\", \"Cabin\", \"Destination\", \"Name\"]]\n",
    "data_bool = data_train[[\"CryoSleep\", \"VIP\", \"Transported\"]] #pas de missing values dans transported\n",
    "\n",
    "#remplacement valeurs manquante de data_num\n",
    "imputer = SimpleImputer(strategy=\"mean\")\n",
    "imputer.fit(data_num)\n",
    "X = imputer.transform(data_num)\n",
    "data_num_tr = pd.DataFrame(X, columns = data_num.columns)\n",
    "\n",
    "#remplacement valeurs manquante de data_str\n",
    "imputer_str = SimpleImputer(strategy=\"most_frequent\")\n",
    "imputer_str.fit(data_str)\n",
    "Y = imputer_str.transform(data_str)\n",
    "data_str_tr = pd.DataFrame(Y, columns=data_str.columns)\n",
    "\n",
    "#remplacement valeurs manquante de data_str\n",
    "imputer_bool = SimpleImputer(strategy=\"most_frequent\")\n",
    "imputer_bool.fit(data_bool)\n",
    "Z = imputer_bool.transform(data_bool)\n",
    "data_bool_tr = pd.DataFrame(Z, columns=data_bool.columns)\n",
    "\n",
    "data_train_tr = pd.concat([data_num_tr, data_str_tr, data_bool_tr], axis=1)\n",
    "\n",
    "print(data_num_tr)\n",
    "print(data_str_tr)\n",
    "print(data_bool_tr)\n",
    "print(data_train_tr)\n"
   ]
  },
  {
   "cell_type": "code",
   "execution_count": 27,
   "metadata": {},
   "outputs": [
    {
     "data": {
      "image/png": "[encoded data removed]",
      "text/plain": [
       "<Figure size 1000x600 with 1 Axes>"
      ]
     },
     "metadata": {},
     "output_type": "display_data"
    }
   ],
   "source": [
    "stand = data_num_tr[[\"RoomService\", \"FoodCourt\", \"ShoppingMall\", \"Spa\", \"VRDeck\"]]\n",
    "\n",
    "means = stand.mean()\n",
    "stds = stand.std()\n",
    "\n",
    "fig, ax = plt.subplots(figsize=(10, 6))\n",
    "\n",
    "ax.bar(means.index, means, color='blue', alpha=0.5, label='Mean')\n",
    "\n",
    "ax.errorbar(means.index, means, yerr=stds, fmt='o', color='red', label='Std')\n",
    "\n",
    "ax.set_title('Mean and Standard Deviation of Columns before Standardization')\n",
    "ax.set_xlabel('Columns')\n",
    "ax.set_ylabel('Value')\n",
    "ax.legend()\n",
    "\n",
    "plt.xticks(rotation=45, ha='right')\n",
    "\n",
    "plt.tight_layout()\n",
    "plt.show()\n"
   ]
  },
  {
   "cell_type": "markdown",
   "metadata": {},
   "source": [
    "Il faut grave standardiser la c'est urgent"
   ]
  },
  {
   "cell_type": "code",
   "execution_count": 30,
   "metadata": {},
   "outputs": [
    {
     "name": "stdout",
     "output_type": "stream",
     "text": [
      "      RoomService  FoodCourt  ShoppingMall       Spa    VRDeck\n",
      "0       -0.340590  -0.287314     -0.290817 -0.276663 -0.269023\n",
      "1       -0.175364  -0.281669     -0.248968  0.211505 -0.230194\n",
      "2       -0.275409   1.955616     -0.290817  5.694289 -0.225782\n",
      "3       -0.340590   0.517406      0.330225  2.683471 -0.098708\n",
      "4        0.118709  -0.243409     -0.038048  0.225732 -0.267258\n",
      "...           ...        ...           ...       ...       ...\n",
      "8688    -0.340590   3.989682     -0.290817  1.184286 -0.203720\n",
      "8689    -0.340590  -0.287314     -0.290817 -0.276663 -0.269023\n",
      "8690    -0.340590  -0.287314      2.842851 -0.275774 -0.269023\n",
      "8691    -0.340590   0.370637     -0.290817  0.037223  2.585740\n",
      "8692    -0.149594   2.653082     -0.290817 -0.276663 -0.258433\n",
      "\n",
      "[8693 rows x 5 columns]\n",
      "      PassengerId   Age  RoomService  FoodCourt  ShoppingMall       Spa  \\\n",
      "0           101.0  39.0    -0.340590  -0.287314     -0.290817 -0.276663   \n",
      "1           201.0  24.0    -0.175364  -0.281669     -0.248968  0.211505   \n",
      "2           301.0  58.0    -0.275409   1.955616     -0.290817  5.694289   \n",
      "3           302.0  33.0    -0.340590   0.517406      0.330225  2.683471   \n",
      "4           401.0  16.0     0.118709  -0.243409     -0.038048  0.225732   \n",
      "...           ...   ...          ...        ...           ...       ...   \n",
      "8688     927601.0  41.0    -0.340590   3.989682     -0.290817  1.184286   \n",
      "8689     927801.0  18.0    -0.340590  -0.287314     -0.290817 -0.276663   \n",
      "8690     927901.0  26.0    -0.340590  -0.287314      2.842851 -0.275774   \n",
      "8691     928001.0  32.0    -0.340590   0.370637     -0.290817  0.037223   \n",
      "8692     928002.0  44.0    -0.149594   2.653082     -0.290817 -0.276663   \n",
      "\n",
      "        VRDeck  \n",
      "0    -0.269023  \n",
      "1    -0.230194  \n",
      "2    -0.225782  \n",
      "3    -0.098708  \n",
      "4    -0.267258  \n",
      "...        ...  \n",
      "8688 -0.203720  \n",
      "8689 -0.269023  \n",
      "8690 -0.269023  \n",
      "8691  2.585740  \n",
      "8692 -0.258433  \n",
      "\n",
      "[8693 rows x 7 columns]\n"
     ]
    }
   ],
   "source": [
    "scaler = StandardScaler()\n",
    "data_num_stand = scaler.fit_transform(stand)\n",
    "data_num_stand = pd.DataFrame(data_num_stand, columns=stand.columns)\n",
    "\n",
    "print(data_num_stand)\n",
    "\n",
    "a = data_num_tr[[\"PassengerId\", \"Age\"]]\n",
    "data_num_tr = pd.concat([a, data_num_stand], axis=1)\n",
    "\n",
    "print(data_num_tr)\n",
    "\n",
    "data_train_tr = pd.concat([data_num_tr, data_str_tr, data_bool_tr], axis=1)\n"
   ]
  },
  {
   "cell_type": "markdown",
   "metadata": {},
   "source": [
    "Data Splitting:\n",
    "\n",
    "The code initially splits the dataset data_train into three separate datasets based on the type of features:\n",
    "data_num: Contains numerical features such as PassengerId, Age, and various amenities.\n",
    "data_str: Contains categorical string features like HomePlanet, Cabin, and Name.\n",
    "data_bool: Contains boolean features including CryoSleep, VIP, and Transported.\n",
    "Missing Value Imputation:\n",
    "\n",
    "Missing values in each subset are imputed separately using different strategies:\n",
    "For data_num, missing values are replaced with the mean value of each column using SimpleImputer with the strategy set to \"mean\".\n",
    "For data_str, missing values are replaced with the most frequent value (mode) of each column using SimpleImputer with the strategy set to \"most_frequent\".\n",
    "Similarly, for data_bool, missing values are replaced with the most frequent value.\n",
    "Concatenation:\n",
    "\n",
    "After imputation, the transformed subsets are concatenated back together along the columns to form the new DataFrame data_train_tr.\n",
    "Result:\n",
    "\n",
    "The resulting DataFrame data_train_tr contains all the original columns with missing values replaced. Now, the dataset is ready for further analysis or modeling without any missing values."
   ]
  },
  {
   "cell_type": "code",
   "execution_count": 31,
   "metadata": {},
   "outputs": [
    {
     "name": "stdout",
     "output_type": "stream",
     "text": [
      "data_num_tr:\n",
      "\n",
      "PassengerId     0\n",
      "Age             0\n",
      "RoomService     0\n",
      "FoodCourt       0\n",
      "ShoppingMall    0\n",
      "Spa             0\n",
      "VRDeck          0\n",
      "dtype: int64\n",
      "--------\n",
      "data_str_tr:\n",
      "\n",
      "HomePlanet     0\n",
      "Cabin          0\n",
      "Destination    0\n",
      "Name           0\n",
      "dtype: int64\n",
      "--------\n",
      "data_bool_tr:\n",
      "\n",
      "CryoSleep      0\n",
      "VIP            0\n",
      "Transported    0\n",
      "dtype: int64\n",
      "--------\n",
      "data_train_tr:\n",
      "\n",
      "PassengerId     0\n",
      "Age             0\n",
      "RoomService     0\n",
      "FoodCourt       0\n",
      "ShoppingMall    0\n",
      "Spa             0\n",
      "VRDeck          0\n",
      "HomePlanet      0\n",
      "Cabin           0\n",
      "Destination     0\n",
      "Name            0\n",
      "CryoSleep       0\n",
      "VIP             0\n",
      "Transported     0\n",
      "dtype: int64\n"
     ]
    }
   ],
   "source": [
    "print(\"data_num_tr:\\n\")\n",
    "print(data_num_tr.isnull().sum())\n",
    "print(\"--------\")\n",
    "print(\"data_str_tr:\\n\")\n",
    "print(data_str_tr.isnull().sum())\n",
    "print(\"--------\")\n",
    "print(\"data_bool_tr:\\n\")\n",
    "print(data_bool_tr.isnull().sum())\n",
    "print(\"--------\")\n",
    "print(\"data_train_tr:\\n\")\n",
    "print(data_train_tr.isnull().sum())"
   ]
  },
  {
   "cell_type": "markdown",
   "metadata": {},
   "source": [
    "After imputation, the code checks for missing values in each subset: For data_num, there are no missing values in any of the columns.\n",
    "Similarly, for data_str and data_bool, all columns have been successfully imputed, and there are no missing values.\n",
    "Overall Dataset Check:\n",
    "\n",
    "The code then checks for missing values in the concatenated dataset data_train_tr. As expected, there are no missing values in any column of the combined dataset.\n",
    "\n",
    "These results confirm that missing values have been successfully handled through imputation, and the dataset is now complete and ready for further analysis or modeling."
   ]
  },
  {
   "cell_type": "code",
   "execution_count": 32,
   "metadata": {},
   "outputs": [
    {
     "name": "stdout",
     "output_type": "stream",
     "text": [
      "True\n"
     ]
    }
   ],
   "source": [
    "print('Transported' in data_train_tr.columns)"
   ]
  },
  {
   "cell_type": "markdown",
   "metadata": {},
   "source": [
    "\n",
    "The printed statement confirms that the column \"Transported\" is indeed present in the DataFrame data_train_tr. The boolean value True indicates that the column exists within the DataFrame's columns. This verification is important to ensure that the transformation and concatenation processes did not inadvertently remove or alter the desired columns."
   ]
  },
  {
   "cell_type": "code",
   "execution_count": 33,
   "metadata": {},
   "outputs": [
    {
     "data": {
      "text/plain": [
       "<seaborn.axisgrid.FacetGrid at 0x7fdeeab5fcd0>"
      ]
     },
     "execution_count": 33,
     "metadata": {},
     "output_type": "execute_result"
    },
    {
     "data": {
      "image/png": "[encoded data removed]",
      "text/plain": [
       "<Figure size 600x300 with 2 Axes>"
      ]
     },
     "metadata": {},
     "output_type": "display_data"
    }
   ],
   "source": [
    "g = sns.FacetGrid(data_train_tr, col='Transported')\n",
    "g.map(plt.hist, 'Age', bins=20)"
   ]
  },
  {
   "cell_type": "markdown",
   "metadata": {},
   "source": [
    "*   **Age Distribution and Transported Status :** The concentration of non-transported individuals within the 18 to 40 age range suggests that this demographic may have been more actively involved in the event leading to transportation. Conversely, the broader age distribution among transported individuals, including a peak of newborns, indicates a wider demographic affected by the transportation event ;\n",
    "\n",
    "*   **Impact of Age on Transported Status :** The presence of newborns among transported individuals may suggest a vulnerability to the transportation phenomenon across all age groups. It could imply that factors other than age alone influence an individual's likelihood of being transported ;\n",
    "\n",
    "*   **Potential Factors Influencing Transportation :** Further analysis could explore potential factors contributing to transportation, such as occupation, socioeconomic status, or health conditions. Understanding these factors may provide insights into why certain age groups are more affected than others ;\n",
    "\n",
    "*   **Effectiveness of Rescue Efforts :** The age distribution of transported individuals may also reflect the success of rescue efforts. For example, the presence of newborns could indicate prioritization in rescue operations or differential susceptibility to the transportation phenomenon ;\n",
    "\n",
    "*   **Long-Term Implications :** The implications of transportation on different age groups, such as psychological effects, societal adaptation, and resettlement challenges, could be explored. Understanding how different age groups cope with and adapt to transportation could inform future rescue and support efforts."
   ]
  },
  {
   "cell_type": "code",
   "execution_count": 34,
   "metadata": {},
   "outputs": [
    {
     "name": "stderr",
     "output_type": "stream",
     "text": [
      "/opt/anaconda3/lib/python3.9/site-packages/seaborn/distributions.py:461: FutureWarning: In a future version, the Index constructor will not infer numeric dtypes when passed object-dtype sequences (matching Series behavior)\n",
      "  pd.Index(edges, name=\"edges\"),\n",
      "/opt/anaconda3/lib/python3.9/site-packages/seaborn/distributions.py:462: FutureWarning: In a future version, the Index constructor will not infer numeric dtypes when passed object-dtype sequences (matching Series behavior)\n",
      "  pd.Index(widths, name=\"widths\"),\n",
      "/opt/anaconda3/lib/python3.9/site-packages/seaborn/distributions.py:461: FutureWarning: In a future version, the Index constructor will not infer numeric dtypes when passed object-dtype sequences (matching Series behavior)\n",
      "  pd.Index(edges, name=\"edges\"),\n",
      "/opt/anaconda3/lib/python3.9/site-packages/seaborn/distributions.py:462: FutureWarning: In a future version, the Index constructor will not infer numeric dtypes when passed object-dtype sequences (matching Series behavior)\n",
      "  pd.Index(widths, name=\"widths\"),\n"
     ]
    },
    {
     "data": {
      "image/png": "[encoded data removed]",
      "text/plain": [
       "<Figure size 600x300 with 2 Axes>"
      ]
     },
     "metadata": {},
     "output_type": "display_data"
    }
   ],
   "source": [
    "#data_train_tr['VIP'] = data_train_tr['VIP'].map({True: 1, False: 0}).astype(int)\n",
    "#g = sns.FacetGrid(data_train_tr, col='Transported')\n",
    "#g.map(plt.hist, 'VIP', bins=20)\n",
    "\n",
    "\n",
    "# Mapping boolean values to integers (1 for True, 0 for False)\n",
    "#data_train_tr['VIP'] = data_train_tr['VIP'].map({True: 1, False: 0}).astype(int)\n",
    "\n",
    "# Defining color palette for 'Transported' values\n",
    "transported_colors = {1: 'skyblue', 0: 'salmon'}\n",
    "\n",
    "# Creating the FacetGrid\n",
    "g = sns.FacetGrid(data_train_tr, col='Transported')\n",
    "\n",
    "# Plotting the stacked bar chart for VIP status\n",
    "g.map(sns.histplot, 'CryoSleep', bins=2, multiple=\"stack\", palette=transported_colors)\n",
    "\n",
    "# Adding labels and title\n",
    "plt.xlabel('Cryo sleeping (0: No, 1: Yes)')\n",
    "plt.ylabel('Count')\n",
    "plt.title('Distribution of Cryo sleeping passengers by Transported Status')\n",
    "\n",
    "# Adding legend\n",
    "handles = [plt.Rectangle((0,0),1,1, color=transported_colors[label]) for label in transported_colors]\n",
    "plt.legend(handles, transported_colors.keys(), loc='upper right')\n",
    "\n",
    "# Setting x-axis ticks to be binary values\n",
    "plt.xticks(ticks=[0, 1])\n",
    "\n",
    "# Adding numeric values on top of each bar\n",
    "for ax in g.axes.flat:\n",
    "    for bar in ax.patches:\n",
    "        height = bar.get_height()\n",
    "        ax.annotate(f'{height}', xy=(bar.get_x() + bar.get_width() / 2, height), xytext=(0, 3),\n",
    "                    textcoords=\"offset points\", ha='center', va='bottom')\n",
    "\n",
    "# Showing the plot\n",
    "plt.show()\n",
    "\n",
    "#Améliorer pour avoir la distinction de couleurs"
   ]
  },
  {
   "cell_type": "code",
   "execution_count": 35,
   "metadata": {},
   "outputs": [
    {
     "name": "stderr",
     "output_type": "stream",
     "text": [
      "/opt/anaconda3/lib/python3.9/site-packages/seaborn/distributions.py:461: FutureWarning: In a future version, the Index constructor will not infer numeric dtypes when passed object-dtype sequences (matching Series behavior)\n",
      "  pd.Index(edges, name=\"edges\"),\n",
      "/opt/anaconda3/lib/python3.9/site-packages/seaborn/distributions.py:462: FutureWarning: In a future version, the Index constructor will not infer numeric dtypes when passed object-dtype sequences (matching Series behavior)\n",
      "  pd.Index(widths, name=\"widths\"),\n",
      "/opt/anaconda3/lib/python3.9/site-packages/seaborn/distributions.py:461: FutureWarning: In a future version, the Index constructor will not infer numeric dtypes when passed object-dtype sequences (matching Series behavior)\n",
      "  pd.Index(edges, name=\"edges\"),\n",
      "/opt/anaconda3/lib/python3.9/site-packages/seaborn/distributions.py:462: FutureWarning: In a future version, the Index constructor will not infer numeric dtypes when passed object-dtype sequences (matching Series behavior)\n",
      "  pd.Index(widths, name=\"widths\"),\n"
     ]
    },
    {
     "data": {
      "image/png": "[encoded data removed]",
      "text/plain": [
       "<Figure size 600x300 with 2 Axes>"
      ]
     },
     "metadata": {},
     "output_type": "display_data"
    }
   ],
   "source": [
    "#data_train_tr['VIP'] = data_train_tr['VIP'].map({True: 1, False: 0}).astype(int)\n",
    "#g = sns.FacetGrid(data_train_tr, col='Transported')\n",
    "#g.map(plt.hist, 'VIP', bins=20)\n",
    "\n",
    "\n",
    "# Mapping boolean values to integers (1 for True, 0 for False)\n",
    "#data_train_tr['VIP'] = data_train_tr['VIP'].map({True: 1, False: 0}).astype(int)\n",
    "\n",
    "# Defining color palette for 'Transported' values\n",
    "transported_colors = {1: 'skyblue', 0: 'salmon'}\n",
    "\n",
    "# Creating the FacetGrid\n",
    "g = sns.FacetGrid(data_train_tr, col='Transported')\n",
    "\n",
    "# Plotting the stacked bar chart for VIP status\n",
    "g.map(sns.histplot, 'VIP', bins=2, multiple=\"stack\", palette=transported_colors)\n",
    "\n",
    "# Adding labels and title\n",
    "plt.xlabel('VIP Status (0: No, 1: Yes)')\n",
    "plt.ylabel('Count')\n",
    "plt.title('Distribution of VIP Status by Transported Status')\n",
    "\n",
    "# Adding legend\n",
    "handles = [plt.Rectangle((0,0),1,1, color=transported_colors[label]) for label in transported_colors]\n",
    "plt.legend(handles, transported_colors.keys(), loc='upper right')\n",
    "\n",
    "# Setting x-axis ticks to be binary values\n",
    "plt.xticks(ticks=[0, 1])\n",
    "\n",
    "# Adding numeric values on top of each bar\n",
    "for ax in g.axes.flat:\n",
    "    for bar in ax.patches:\n",
    "        height = bar.get_height()\n",
    "        ax.annotate(f'{height}', xy=(bar.get_x() + bar.get_width() / 2, height), xytext=(0, 3),\n",
    "                    textcoords=\"offset points\", ha='center', va='bottom')\n",
    "\n",
    "# Showing the plot\n",
    "plt.show()\n",
    "\n",
    "#Améliorer pour avoir la distinction de couleurs"
   ]
  },
  {
   "cell_type": "markdown",
   "metadata": {},
   "source": [
    "These graphs represent the distribution of VIP status among transported and non-transported passengers. Here are the interpretations:\n",
    "\n",
    "For non-transported passengers (Transported = 0):\n",
    "\n",
    "There are 4192 passengers who are not VIP and 123 VIP passengers.\n",
    "The histogram shows that the majority of non-transported passengers are not VIP, with a significantly higher number of regular passengers compared to VIP ones.\n",
    "The bar corresponding to VIP passengers is much smaller in comparison, suggesting that there are relatively fewer VIP passengers among those who are not transported.\n",
    "\n",
    "For transported passengers (Transported = 1) :\n",
    "There are 4302 passengers who are not VIP and 76 VIP passengers.\n",
    "Similar to non-transported passengers, the majority of transported passengers are not VIP, with a much larger bar for regular passengers.\n",
    "However, the difference between the number of regular passengers and VIP passengers is even more pronounced among transported passengers, suggesting that VIP passengers are less likely to be transported compared to regular passengers.\n",
    "In summary, these graphs indicate a trend where regular passengers are less likely to be transported, suggesting that VIP status may be a determining factor in passenger selection for transportation."
   ]
  },
  {
   "cell_type": "code",
   "execution_count": 36,
   "metadata": {},
   "outputs": [
    {
     "data": {
      "image/png": "[encoded data removed]",
      "text/plain": [
       "<Figure size 640x480 with 1 Axes>"
      ]
     },
     "metadata": {},
     "output_type": "display_data"
    }
   ],
   "source": [
    "comparison_df = data_train_tr.groupby(['VIP', 'Transported']).size().unstack()\n",
    "\n",
    "# Créer le graphique à barres empilées\n",
    "ax = comparison_df.plot(kind='bar', stacked=True)\n",
    "\n",
    "# Ajouter les valeurs numériques au-dessus de chaque barre\n",
    "for p in ax.patches:\n",
    "    width, height = p.get_width(), p.get_height()\n",
    "    x, y = p.get_xy()\n",
    "    ax.text(x + width / 2, y + height / 2, f'{int(height)}', ha='center', va='center')\n",
    "\n",
    "plt.xlabel('VIP')\n",
    "plt.ylabel('Count')\n",
    "plt.title('Comparison of VIP and Transported')\n",
    "plt.xticks(rotation=0)\n",
    "plt.show()\n",
    "\n",
    "# à supprimer ?"
   ]
  },
  {
   "cell_type": "code",
   "execution_count": 37,
   "metadata": {},
   "outputs": [
    {
     "data": {
      "image/png": "[encoded data removed]",
      "text/plain": [
       "<Figure size 640x480 with 1 Axes>"
      ]
     },
     "metadata": {},
     "output_type": "display_data"
    }
   ],
   "source": [
    "# Créer le graphique à barres empilées\n",
    "ax = comparison_df.plot(kind='bar', stacked=True)\n",
    "\n",
    "# Ajouter les valeurs numériques au-dessus de chaque barre\n",
    "for p in ax.patches:\n",
    "    width, height = p.get_width(), p.get_height()\n",
    "    x, y = p.get_xy()\n",
    "    ax.text(x + width / 2, y + height / 2, f'{int(height)}', ha='center', va='center')\n",
    "\n",
    "# Autres paramètres du graphique\n",
    "plt.xlabel('CryoSleep')\n",
    "plt.ylabel('Count')\n",
    "plt.title('Comparison of CryoSleep and Transported')\n",
    "plt.xticks(rotation=0)\n",
    "plt.show()\n",
    "\n",
    "\n",
    "# à supprimer ?"
   ]
  },
  {
   "cell_type": "code",
   "execution_count": 38,
   "metadata": {},
   "outputs": [
    {
     "data": {
      "image/png": "[encoded data removed]",
      "text/plain": [
       "<Figure size 1000x600 with 1 Axes>"
      ]
     },
     "metadata": {},
     "output_type": "display_data"
    }
   ],
   "source": [
    "plt.figure(figsize=(10, 6))\n",
    "plt.scatter(data_train['Transported'], data_train['RoomService'])\n",
    "#plt.title('Heart Disease by Age')\n",
    "plt.show()"
   ]
  },
  {
   "cell_type": "code",
   "execution_count": 39,
   "metadata": {},
   "outputs": [],
   "source": [
    "#plt.figure(figsize=(10, 6))\n",
    "#plt.scatter(data_train['Transported'], data_train['PassengerId'].astype(str).str.slice(0, 4))\n",
    "#plt.show()\n"
   ]
  },
  {
   "cell_type": "code",
   "execution_count": 40,
   "metadata": {},
   "outputs": [
    {
     "name": "stdout",
     "output_type": "stream",
     "text": [
      "              Missing Values  Percentage (%) Columns with Missing Values\n",
      "CryoSleep                217        2.496261                         NaN\n",
      "ShoppingMall             208        2.392730                         NaN\n",
      "VIP                      203        2.335212                         NaN\n",
      "HomePlanet               201        2.312205                         NaN\n",
      "Name                     200        2.300702                         NaN\n",
      "Cabin                    199        2.289198                         NaN\n",
      "VRDeck                   188        2.162660                         NaN\n",
      "FoodCourt                183        2.105142                         NaN\n",
      "Spa                      183        2.105142                         NaN\n",
      "Destination              182        2.093639                         NaN\n",
      "RoomService              181        2.082135                         NaN\n",
      "Age                      179        2.059128                         NaN\n"
     ]
    }
   ],
   "source": [
    "\n",
    "# Créer une nouvelle colonne pour stocker les noms des colonnes avec des valeurs manquantes\n",
    "missing_data['Columns with Missing Values'] = data_train.apply(lambda row: row.index[row.isnull()].tolist(), axis=1)\n",
    "\n",
    "# Filtrer les lignes avec des valeurs manquantes\n",
    "missing_data = missing_data[missing_data['Missing Values'] > 1]\n",
    "\n",
    "# Afficher le DataFrame résultant\n",
    "print(missing_data)\n",
    "\n"
   ]
  },
  {
   "cell_type": "markdown",
   "metadata": {},
   "source": [
    "On observe que le maximum de valeurs manquantes par ligne vaut 2. Nous n'avons donc pas besoin de supprimer de ligne du dataset."
   ]
  },
  {
   "cell_type": "code",
   "execution_count": 41,
   "metadata": {},
   "outputs": [],
   "source": [
    "columns = {\"HomePlanet\", \"Destination\", \"Name\"}\n",
    "\n",
    "#def replace"
   ]
  }
 ],
 "metadata": {
  "kernelspec": {
   "display_name": "base",
   "language": "python",
   "name": "python3"
  },
  "language_info": {
   "codemirror_mode": {
    "name": "ipython",
    "version": 3
   },
   "file_extension": ".py",
   "mimetype": "text/x-python",
   "name": "python",
   "nbconvert_exporter": "python",
   "pygments_lexer": "ipython3",
   "version": "3.9.13"
  }
 },
 "nbformat": 4,
 "nbformat_minor": 2
}
